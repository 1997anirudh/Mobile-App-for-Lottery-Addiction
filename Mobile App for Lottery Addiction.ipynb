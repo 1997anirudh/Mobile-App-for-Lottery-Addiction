{
 "cells": [
  {
   "cell_type": "markdown",
   "metadata": {},
   "source": [
    "#  Mobile App for Lottery Addiction\n",
    "\n",
    "**I am not a supporter or a believer in the Lottery, this is a project created purely to understand how probabilties work**\n",
    "\n",
    "We will look to find answers to the following questions at the end of this project:\n",
    "- What is the probability of winning the big prize with a single ticket?\n",
    "- What is the probability of winning the big prize if we play 40 different tickets (or any other number)?\n",
    "- What is the probability of having at least five (or four, or three, or two) winning numbers on a single ticket?\n",
    "\n",
    "We will be using the dataset from the national [6/49](https://www.kaggle.com/datascienceai/lottery-dataset) lottery game in Canada "
   ]
  },
  {
   "cell_type": "code",
   "execution_count": 1,
   "metadata": {
    "collapsed": false
   },
   "outputs": [
    {
     "name": "stdout",
     "output_type": "stream",
     "text": [
      "720\n"
     ]
    }
   ],
   "source": [
    "def factorial(n):\n",
    "    prod = 1\n",
    "    if n==0:\n",
    "        return 1\n",
    "    while(n>0):\n",
    "        prod*=n\n",
    "        n=n-1\n",
    "    return prod\n",
    "print(factorial(6))"
   ]
  },
  {
   "cell_type": "code",
   "execution_count": 2,
   "metadata": {
    "collapsed": false
   },
   "outputs": [
    {
     "name": "stdout",
     "output_type": "stream",
     "text": [
      "15.0\n"
     ]
    }
   ],
   "source": [
    "def combinations(n,k):\n",
    "    top = factorial(n)\n",
    "    bottom = factorial(k) *  factorial(n-k)\n",
    "    return top/bottom\n",
    "print(combinations(6,2))"
   ]
  },
  {
   "cell_type": "markdown",
   "metadata": {},
   "source": [
    "The 2 functions are written, and have been verified if they work."
   ]
  },
  {
   "cell_type": "code",
   "execution_count": 3,
   "metadata": {
    "collapsed": false
   },
   "outputs": [
    {
     "name": "stdout",
     "output_type": "stream",
     "text": [
      "Your chances of winning the lottery with these numbers[2, 43, 22, 23, 11, 5] is 0.0000072\n"
     ]
    }
   ],
   "source": [
    "def one_ticket_probability(n_list):\n",
    "    total_outcomes = combinations(49,6)\n",
    "    prob_1 = 1/total_outcomes\n",
    "    perc_1 = prob_1*100\n",
    "    print(\"Your chances of winning the lottery with these numbers{nums} is {perc:.7f}\".format(nums = n_list,perc = perc_1))\n",
    "test_input_1 = [2, 43, 22, 23, 11, 5]\n",
    "one_ticket_probability(test_input_1)"
   ]
  },
  {
   "cell_type": "code",
   "execution_count": 4,
   "metadata": {
    "collapsed": false
   },
   "outputs": [
    {
     "name": "stdout",
     "output_type": "stream",
     "text": [
      "(3665, 11)\n"
     ]
    },
    {
     "data": {
      "text/html": [
       "<div>\n",
       "<style scoped>\n",
       "    .dataframe tbody tr th:only-of-type {\n",
       "        vertical-align: middle;\n",
       "    }\n",
       "\n",
       "    .dataframe tbody tr th {\n",
       "        vertical-align: top;\n",
       "    }\n",
       "\n",
       "    .dataframe thead th {\n",
       "        text-align: right;\n",
       "    }\n",
       "</style>\n",
       "<table border=\"1\" class=\"dataframe\">\n",
       "  <thead>\n",
       "    <tr style=\"text-align: right;\">\n",
       "      <th></th>\n",
       "      <th>PRODUCT</th>\n",
       "      <th>DRAW NUMBER</th>\n",
       "      <th>SEQUENCE NUMBER</th>\n",
       "      <th>DRAW DATE</th>\n",
       "      <th>NUMBER DRAWN 1</th>\n",
       "      <th>NUMBER DRAWN 2</th>\n",
       "      <th>NUMBER DRAWN 3</th>\n",
       "      <th>NUMBER DRAWN 4</th>\n",
       "      <th>NUMBER DRAWN 5</th>\n",
       "      <th>NUMBER DRAWN 6</th>\n",
       "      <th>BONUS NUMBER</th>\n",
       "    </tr>\n",
       "  </thead>\n",
       "  <tbody>\n",
       "    <tr>\n",
       "      <th>0</th>\n",
       "      <td>649</td>\n",
       "      <td>1</td>\n",
       "      <td>0</td>\n",
       "      <td>6/12/1982</td>\n",
       "      <td>3</td>\n",
       "      <td>11</td>\n",
       "      <td>12</td>\n",
       "      <td>14</td>\n",
       "      <td>41</td>\n",
       "      <td>43</td>\n",
       "      <td>13</td>\n",
       "    </tr>\n",
       "    <tr>\n",
       "      <th>1</th>\n",
       "      <td>649</td>\n",
       "      <td>2</td>\n",
       "      <td>0</td>\n",
       "      <td>6/19/1982</td>\n",
       "      <td>8</td>\n",
       "      <td>33</td>\n",
       "      <td>36</td>\n",
       "      <td>37</td>\n",
       "      <td>39</td>\n",
       "      <td>41</td>\n",
       "      <td>9</td>\n",
       "    </tr>\n",
       "    <tr>\n",
       "      <th>2</th>\n",
       "      <td>649</td>\n",
       "      <td>3</td>\n",
       "      <td>0</td>\n",
       "      <td>6/26/1982</td>\n",
       "      <td>1</td>\n",
       "      <td>6</td>\n",
       "      <td>23</td>\n",
       "      <td>24</td>\n",
       "      <td>27</td>\n",
       "      <td>39</td>\n",
       "      <td>34</td>\n",
       "    </tr>\n",
       "    <tr>\n",
       "      <th>3</th>\n",
       "      <td>649</td>\n",
       "      <td>4</td>\n",
       "      <td>0</td>\n",
       "      <td>7/3/1982</td>\n",
       "      <td>3</td>\n",
       "      <td>9</td>\n",
       "      <td>10</td>\n",
       "      <td>13</td>\n",
       "      <td>20</td>\n",
       "      <td>43</td>\n",
       "      <td>34</td>\n",
       "    </tr>\n",
       "    <tr>\n",
       "      <th>4</th>\n",
       "      <td>649</td>\n",
       "      <td>5</td>\n",
       "      <td>0</td>\n",
       "      <td>7/10/1982</td>\n",
       "      <td>5</td>\n",
       "      <td>14</td>\n",
       "      <td>21</td>\n",
       "      <td>31</td>\n",
       "      <td>34</td>\n",
       "      <td>47</td>\n",
       "      <td>45</td>\n",
       "    </tr>\n",
       "  </tbody>\n",
       "</table>\n",
       "</div>"
      ],
      "text/plain": [
       "   PRODUCT  DRAW NUMBER  SEQUENCE NUMBER  DRAW DATE  NUMBER DRAWN 1  \\\n",
       "0      649            1                0  6/12/1982               3   \n",
       "1      649            2                0  6/19/1982               8   \n",
       "2      649            3                0  6/26/1982               1   \n",
       "3      649            4                0   7/3/1982               3   \n",
       "4      649            5                0  7/10/1982               5   \n",
       "\n",
       "   NUMBER DRAWN 2  NUMBER DRAWN 3  NUMBER DRAWN 4  NUMBER DRAWN 5  \\\n",
       "0              11              12              14              41   \n",
       "1              33              36              37              39   \n",
       "2               6              23              24              27   \n",
       "3               9              10              13              20   \n",
       "4              14              21              31              34   \n",
       "\n",
       "   NUMBER DRAWN 6  BONUS NUMBER  \n",
       "0              43            13  \n",
       "1              41             9  \n",
       "2              39            34  \n",
       "3              43            34  \n",
       "4              47            45  "
      ]
     },
     "execution_count": 4,
     "metadata": {},
     "output_type": "execute_result"
    }
   ],
   "source": [
    "import pandas as pd \n",
    "import numpy as np \n",
    "lottery = pd.read_csv(\"649.csv\")\n",
    "print(lottery.shape)\n",
    "lottery.head(5)\n"
   ]
  },
  {
   "cell_type": "code",
   "execution_count": 5,
   "metadata": {
    "collapsed": false
   },
   "outputs": [
    {
     "data": {
      "text/plain": [
       "0    {3, 41, 11, 12, 43, 14, 13}\n",
       "1     {33, 36, 37, 39, 8, 41, 9}\n",
       "2     {1, 34, 6, 39, 23, 24, 27}\n",
       "3     {34, 3, 9, 10, 43, 13, 20}\n",
       "4    {34, 5, 45, 14, 47, 21, 31}\n",
       "dtype: object"
      ]
     },
     "execution_count": 5,
     "metadata": {},
     "output_type": "execute_result"
    }
   ],
   "source": [
    "\n",
    "# lottery[[\"NUMBER DRAWN 1\",\"NUMBER DRAWN 2\",\"NUMBER DRAWN 3\",\"NUMBER DRAWN 4\",\"NUMBER DRAWN 5\",\"NUMBER DRAWN 6\"]]\n",
    "lottery.iloc[:,[4,5,6,7,8,9,10]]\n",
    "\n",
    "def extract_numbers(vals):\n",
    "    return set(vals)\n",
    "winning_numbers = lottery.iloc[:,[4,5,6,7,8,9,10]].apply(extract_numbers, axis=1)\n",
    "winning_numbers.head()"
   ]
  },
  {
   "cell_type": "code",
   "execution_count": 10,
   "metadata": {
    "collapsed": false
   },
   "outputs": [],
   "source": [
    "def check_historical_occurence(user_list,history_list):\n",
    "    user_set = set(user_list)\n",
    "    val=0\n",
    "    for i in history_list:\n",
    "        if user_set==i:\n",
    "            val+=1\n",
    "    if val == 0:\n",
    "        print('''The combination {} has never occured.\n",
    "This doesn't mean it's more likely to occur now. Your chances to win the big prize in the next drawing using the combination {} are 0.0000072%.\n",
    "In other words, you have a 1 in 13,983,816 chances to win.'''.format(user_list, user_list))\n",
    "        \n",
    "    else:\n",
    "        print('''The number of times combination {} has occured in the past is {}.\n",
    "Your chances to win the big prize in the next drawing using the combination {} are 0.0000072%.\n",
    "In other words, you have a 1 in 13,983,816 chances to win.'''.format(user_list, val,\n",
    "                                                                            user_list))"
   ]
  },
  {
   "cell_type": "code",
   "execution_count": 12,
   "metadata": {
    "collapsed": false
   },
   "outputs": [
    {
     "name": "stdout",
     "output_type": "stream",
     "text": [
      "The number of times combination [3, 41, 11, 12, 43, 14, 13] has occured in the past is 1.\n",
      "Your chances to win the big prize in the next drawing using the combination [3, 41, 11, 12, 43, 14, 13] are 0.0000072%.\n",
      "In other words, you have a 1 in 13,983,816 chances to win.\n"
     ]
    }
   ],
   "source": [
    "check_historical_occurence([3, 41, 11, 12, 43, 14, 13],winning_numbers)"
   ]
  },
  {
   "cell_type": "code",
   "execution_count": 15,
   "metadata": {
    "collapsed": false
   },
   "outputs": [
    {
     "name": "stdout",
     "output_type": "stream",
     "text": [
      "The combination [3, 2, 44, 22, 1, 44] has never occured.\n",
      "This doesn't mean it's more likely to occur now. Your chances to win the big prize in the next drawing using the combination [3, 2, 44, 22, 1, 44] are 0.0000072%.\n",
      "In other words, you have a 1 in 13,983,816 chances to win.\n"
     ]
    }
   ],
   "source": [
    "test_input_4 = [3, 2, 44, 22, 1, 44]\n",
    "check_historical_occurence(test_input_4, winning_numbers)"
   ]
  },
  {
   "cell_type": "code",
   "execution_count": 19,
   "metadata": {
    "collapsed": false
   },
   "outputs": [],
   "source": [
    "def multi_ticket_probability(number_tickets):\n",
    "    all_combs = combinations(49,6)\n",
    "    prob2 = number_tickets/all_combs\n",
    "    perc2 = prob2*100\n",
    "    if number_tickets==1:\n",
    "        print('''Your chances to win the big prize with one ticket are {:.7f}%.\n",
    "In other words, you have a 1 in {:,} chances to win.'''.format(perc2, int(all_combs)))\n",
    "    else:\n",
    "        print('''Your chances to win the big prize with one ticket are {:.7f}%.\n",
    "In other words, you have a 1 in {:,} chances to win.'''.format(perc2, int(all_combs/number_tickets)))\n",
    "    \n",
    "        "
   ]
  },
  {
   "cell_type": "code",
   "execution_count": 24,
   "metadata": {
    "collapsed": false
   },
   "outputs": [
    {
     "name": "stdout",
     "output_type": "stream",
     "text": [
      "Your chances to win the big prize with one ticket are 0.0000072%.\n",
      "In other words, you have a 1 in 13,983,816 chances to win.\n",
      "******************************************************************\n",
      "Your chances to win the big prize with one ticket are 0.0000715%.\n",
      "In other words, you have a 1 in 1,398,381 chances to win.\n",
      "******************************************************************\n",
      "Your chances to win the big prize with one ticket are 0.0007151%.\n",
      "In other words, you have a 1 in 139,838 chances to win.\n",
      "******************************************************************\n",
      "Your chances to win the big prize with one ticket are 0.0715112%.\n",
      "In other words, you have a 1 in 1,398 chances to win.\n",
      "******************************************************************\n",
      "Your chances to win the big prize with one ticket are 7.1511238%.\n",
      "In other words, you have a 1 in 13 chances to win.\n",
      "******************************************************************\n",
      "Your chances to win the big prize with one ticket are 50.0000000%.\n",
      "In other words, you have a 1 in 2 chances to win.\n",
      "******************************************************************\n",
      "Your chances to win the big prize with one ticket are 100.0000000%.\n",
      "In other words, you have a 1 in 1 chances to win.\n",
      "******************************************************************\n"
     ]
    }
   ],
   "source": [
    "test_inputs = [1, 10, 100, 10000, 1000000, 6991908, 13983816]\n",
    "\n",
    "for i in test_inputs:\n",
    "    multi_ticket_probability(i)\n",
    "    print('******************************************************************') # output delimiter"
   ]
  },
  {
   "cell_type": "markdown",
   "metadata": {},
   "source": [
    "The *number_ticket* variable is a list that has as set of numbers that inform us of the number of tickets that have been purchased and the text informs the customer or the addict in our case his probability of winning the lottery."
   ]
  },
  {
   "cell_type": "code",
   "execution_count": 33,
   "metadata": {
    "collapsed": false
   },
   "outputs": [],
   "source": [
    "def probability_less_6(num):\n",
    "    combination_ticket = combinations(6,num)\n",
    "    remaining_combinations = combinations(43,6-num)\n",
    "    total_combinations = combination_ticket * remaining_combinations\n",
    "    final_comb = combinations(49,6)\n",
    "    prob3 = total_combinations/final_comb\n",
    "    perc3 = prob3*100\n",
    "    print('''Your chances of having {} winning numbers with this ticket are {:.7f}%.. In other words, you have a 1 in {:,} chances to win.'''\n",
    "          .format(num, perc3,int(final_comb/total_combinations)))\n",
    "    "
   ]
  },
  {
   "cell_type": "code",
   "execution_count": 36,
   "metadata": {
    "collapsed": false
   },
   "outputs": [
    {
     "name": "stdout",
     "output_type": "stream",
     "text": [
      "Your chances of having 2 winning numbers with this ticket are 13.2378029%.. In other words, you have a 1 in 7 chances to win.\n",
      "***********************************************************\n",
      "Your chances of having 3 winning numbers with this ticket are 1.7650404%.. In other words, you have a 1 in 56 chances to win.\n",
      "***********************************************************\n",
      "Your chances of having 4 winning numbers with this ticket are 0.0968620%.. In other words, you have a 1 in 1,032 chances to win.\n",
      "***********************************************************\n",
      "Your chances of having 5 winning numbers with this ticket are 0.0018450%.. In other words, you have a 1 in 54,200 chances to win.\n",
      "***********************************************************\n"
     ]
    }
   ],
   "source": [
    "test_input = [2,3,4,5]\n",
    "for i in test_input:\n",
    "    probability_less_6(i)\n",
    "    print(\"***********************************************************\")"
   ]
  },
  {
   "cell_type": "markdown",
   "metadata": {},
   "source": [
    "# Conclusion \n",
    "\n",
    " - A customer's chances of winning the lottery with a single ticket are extremely low\n",
    " - More the merrier is a saying that works for lottery tickets as well. More lottery tickets a customer purchases , higher the probability of winning the whole thing.\n",
    " - On observing the probabilities for 2-5 winning numbers, they aren't really enticing, the chances seem grim. And it would be a logical assumption that the fewer number match lower the money the customer gets back from the lottery. \n",
    " \n",
    " "
   ]
  }
 ],
 "metadata": {
  "kernelspec": {
   "display_name": "Python 3",
   "language": "python",
   "name": "python3"
  },
  "language_info": {
   "codemirror_mode": {
    "name": "ipython",
    "version": 3
   },
   "file_extension": ".py",
   "mimetype": "text/x-python",
   "name": "python",
   "nbconvert_exporter": "python",
   "pygments_lexer": "ipython3",
   "version": "3.4.3"
  }
 },
 "nbformat": 4,
 "nbformat_minor": 2
}
